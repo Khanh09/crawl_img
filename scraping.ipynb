{
 "cells": [
  {
   "cell_type": "code",
   "execution_count": 1,
   "metadata": {},
   "outputs": [],
   "source": [
    "import requests\n",
    "import os\n",
    "import pandas as pd\n",
    "from bs4 import BeautifulSoup"
   ]
  },
  {
   "cell_type": "markdown",
   "metadata": {},
   "source": [
    "Hàm download hình ảnh từ một trang bất kỳ"
   ]
  },
  {
   "cell_type": "code",
   "execution_count": 2,
   "metadata": {},
   "outputs": [],
   "source": [
    "def download_image(imgData, downloadPath):\n",
    "    filename = imgData.split('/')[-1]\n",
    "    response = requests.get(imgData)\n",
    "    with open(os.path.join(downloadPath, filename), \"wb\") as file:\n",
    "        file.write(response.content)"
   ]
  },
  {
   "cell_type": "markdown",
   "metadata": {},
   "source": [
    "Hàm download file bất kỳ đã được định dạng"
   ]
  },
  {
   "cell_type": "code",
   "execution_count": 3,
   "metadata": {},
   "outputs": [],
   "source": [
    "def download_file(fileData, downloadPath):\n",
    "    filename = fileData.split('/')[-1]\n",
    "    response = requests.get(fileData)\n",
    "    with open(os.path.join(downloadPath, filename), \"wb\") as file:\n",
    "        file.write(response.content)"
   ]
  },
  {
   "cell_type": "code",
   "execution_count": 4,
   "metadata": {},
   "outputs": [],
   "source": [
    "downloadPath = r'C:\\Users\\Ocean\\OneDrive\\Máy tính\\download_file\\download'"
   ]
  },
  {
   "cell_type": "code",
   "execution_count": 5,
   "metadata": {},
   "outputs": [],
   "source": [
    "page = requests.get(\"https://cafebiz.vn/ceo-livespo-ke-chuyen-kinh-doanh-cua-ba-chang-ngu-lam-mo-mong-tham-vong-ghi-danh-viet-nam-tren-ban-do-cong-nghe-sinh-hoc-the-gioi-176230606091214576.chn\")\n",
    "soup = BeautifulSoup(page.content, \"html.parser\")\n",
    "wrap = soup.find(\"body\")\n",
    "images = wrap.find_all(\"img\")\n",
    "for image in images:\n",
    "    imgData = image['src']\n",
    "    download_image(imgData, downloadPath)"
   ]
  },
  {
   "cell_type": "code",
   "execution_count": 6,
   "metadata": {},
   "outputs": [],
   "source": [
    "file_url = \"https://github.com/phatn/misc/blob/master/LInux%20for%20Dummies.pdf\"\n",
    "download_file(file_url, downloadPath)"
   ]
  }
 ],
 "metadata": {
  "kernelspec": {
   "display_name": "Python 3",
   "language": "python",
   "name": "python3"
  },
  "language_info": {
   "codemirror_mode": {
    "name": "ipython",
    "version": 3
   },
   "file_extension": ".py",
   "mimetype": "text/x-python",
   "name": "python",
   "nbconvert_exporter": "python",
   "pygments_lexer": "ipython3",
   "version": "3.11.3"
  },
  "orig_nbformat": 4
 },
 "nbformat": 4,
 "nbformat_minor": 2
}
